{
 "cells": [
  {
   "cell_type": "code",
   "execution_count": 90,
   "id": "9f363aa3",
   "metadata": {},
   "outputs": [],
   "source": [
    "#Importation des libraries\n",
    "import numpy as np \n",
    "import pandas as pd \n",
    "import string\n",
    "import seaborn as sns\n",
    "from sklearn.model_selection import train_test_split\n",
    "from sklearn.feature_extraction.text import CountVectorizer\n",
    "from sklearn.feature_extraction.text import TfidfTransformer\n",
    "from sklearn.svm import SVC\n",
    "from sklearn.naive_bayes import MultinomialNB\n",
    "from sklearn.linear_model import LogisticRegression\n",
    "from sklearn.pipeline import Pipeline\n",
    "from gensim import parsing\n",
    "import chardet\n",
    "from sklearn import metrics\n",
    "import itertools\n",
    "from sklearn.metrics import accuracy_score, roc_auc_score,confusion_matrix,classification_report, roc_curve,auc, log_loss\n",
    "\n",
    "import matplotlib as mpl \n",
    "import matplotlib.cm as cm \n",
    "import matplotlib.pyplot as plt \n",
    "from collections import Counter\n",
    "from IPython.display import Image\n",
    "import warnings\n",
    "warnings.filterwarnings(\"ignore\")\n",
    "%matplotlib inline "
   ]
  },
  {
   "cell_type": "code",
   "execution_count": null,
   "id": "6bacced1",
   "metadata": {},
   "outputs": [],
   "source": [
    "# load data\n",
    "import pandas as pd\n",
    "df =pd.read_parquet(\"mails_spam_clean.parquet\")\n",
    "df.head()"
   ]
  },
  {
   "cell_type": "markdown",
   "id": "8e030a0d",
   "metadata": {},
   "source": [
    "### Preprocessing et exploration du dataset"
   ]
  },
  {
   "cell_type": "code",
   "execution_count": 106,
   "id": "241c0a66",
   "metadata": {},
   "outputs": [
    {
     "data": {
      "text/plain": [
       "body    0\n",
       "Spam    0\n",
       "dtype: int64"
      ]
     },
     "execution_count": 106,
     "metadata": {},
     "output_type": "execute_result"
    }
   ],
   "source": [
    "#Vérifions s'il y'a des valeurs manquantes\n",
    "df.isnull().sum()"
   ]
  },
  {
   "cell_type": "code",
   "execution_count": null,
   "id": "6f4b040f",
   "metadata": {},
   "outputs": [],
   "source": [
    "df = df.replace([True,False],[1, 0])\n",
    "df.head(5)"
   ]
  },
  {
   "cell_type": "code",
   "execution_count": 75,
   "id": "586832e4",
   "metadata": {},
   "outputs": [
    {
     "data": {
      "image/png": "[encoded data removed]",
      "text/plain": [
       "<Figure size 432x288 with 1 Axes>"
      ]
     },
     "metadata": {
      "needs_background": "light"
     },
     "output_type": "display_data"
    }
   ],
   "source": [
    "count_Class=pd.value_counts(df[\"Spam\"], sort= True)\n",
    "count_Class.plot(kind= 'bar', color= [\"blue\", \"orange\"])\n",
    "plt.title('Spam / Ham')\n",
    "plt.show()"
   ]
  },
  {
   "cell_type": "code",
   "execution_count": 108,
   "id": "e20acda6",
   "metadata": {},
   "outputs": [],
   "source": [
    "count1 = Counter(\" \".join(df[df['Spam']==0][\"body\"]).split()).most_common(20)\n",
    "df1 = pd.DataFrame.from_dict(count1)\n",
    "df1 = df1.rename(columns={0: \"mails non-spam\", 1 : \"count\"})\n",
    "count2 = Counter(\" \".join(data[data['Spam']==1][\"body\"]).split()).most_common(20)\n",
    "df2 = pd.DataFrame.from_dict(count2)\n",
    "df2 = df2.rename(columns={0: \"mails spam\", 1 : \"count_\"})"
   ]
  },
  {
   "cell_type": "code",
   "execution_count": 109,
   "id": "e17c6a95",
   "metadata": {},
   "outputs": [
    {
     "data": {
      "image/png": "[encoded data removed]",
      "text/plain": [
       "<Figure size 432x288 with 1 Axes>"
      ]
     },
     "metadata": {
      "needs_background": "light"
     },
     "output_type": "display_data"
    }
   ],
   "source": [
    "df1.plot.bar(legend = False)\n",
    "y_pos = np.arange(len(df1[\"mails non-spam\"]))\n",
    "plt.xticks(y_pos, df1[\"mails non-spam\"])\n",
    "plt.title('Mots plus frequent dans les mails non-spam')\n",
    "plt.xlabel('Mots')\n",
    "plt.ylabel('Nombre')\n",
    "plt.show()"
   ]
  },
  {
   "cell_type": "code",
   "execution_count": 110,
   "id": "2cde4f49",
   "metadata": {},
   "outputs": [
    {
     "data": {
      "image/png": "[encoded data removed]",
      "text/plain": [
       "<Figure size 432x288 with 1 Axes>"
      ]
     },
     "metadata": {
      "needs_background": "light"
     },
     "output_type": "display_data"
    }
   ],
   "source": [
    "df2.plot.bar(legend = False, color = 'orange')\n",
    "y_pos = np.arange(len(df2[\"mails spam\"]))\n",
    "plt.xticks(y_pos, df2[\"mails spam\"])\n",
    "plt.title('Mots plus frequent dans les mails spam')\n",
    "plt.xlabel('Mots')\n",
    "plt.ylabel('Nombre')\n",
    "plt.show()"
   ]
  },
  {
   "cell_type": "markdown",
   "id": "88b184ee",
   "metadata": {},
   "source": [
    "De ces deux graphiques, nous constatons que le comptage du nombre de mots est un bon point de départ, mais est très basique.\n",
    "Un problème est que certains mots comme « le » apparaîtront plusieurs fois et leur nombre élevé ne sera pas très significatif dans la classification de nos mails.       \n",
    "Pour palier à ce problème nous pensons à la formule **TF*IDF**."
   ]
  },
  {
   "cell_type": "code",
   "execution_count": 113,
   "id": "c937c9b9",
   "metadata": {},
   "outputs": [],
   "source": [
    "def parse(s):\n",
    "    parsing.stem_text(s)\n",
    "    return s\n",
    "\n",
    "#applying parsing to comments.\n",
    "for i in range(0,len(df)):\n",
    "    df.iloc[i,0]=parse(df.iloc[i,0])\n",
    "    df.iloc[i,0]=df.iloc[i,0].lower()\n",
    "X, y = df['body'].tolist(), df['Spam'].tolist()\n",
    "\n",
    "#Train and test set split\n",
    "X_train, X_test, y_train, y_test = train_test_split(X, y, test_size=0.33)"
   ]
  },
  {
   "cell_type": "markdown",
   "id": "87d50cb1",
   "metadata": {},
   "source": [
    "\n",
    "- Count vectorizer crée une matrice de tous les mails où chaque valeur représente le nombre de fois que le mot correspondant apparaît dans ce mail.\n",
    "On applique ensuite le Tfidf\n",
    "\n",
    "La valeur de TF-IDF augmente proportionnellement au nombre de fois qu'un mot apparaît dans le document, et est compensée par la fréquence du mot dans la collection de documents, ce qui permet de gérer le fait que certains mots sont généralement plus courants que d'autres.\n",
    "\n",
    "Ayant les caractéristiques représentées sous forme de vecteurs, nous pouvons enfin former notre classificateur de spam/ham avec n'importe quel algorithme de classification . Ici, nous utilisons les algorithmes suivants:"
   ]
  },
  {
   "cell_type": "markdown",
   "id": "acdf1ba6",
   "metadata": {},
   "source": [
    "### Multinomiales Naives bayes classifier\n",
    "\n",
    "Ensuite utiliser le pipeline pour effectuer des étapes en séquence avec un seul objet, cette fois nous utiliserons le classificateur Multinomial NB."
   ]
  },
  {
   "cell_type": "code",
   "execution_count": 114,
   "id": "01c297f7",
   "metadata": {},
   "outputs": [],
   "source": [
    "text_clf = Pipeline([('vect', CountVectorizer()), ('tfidf', TfidfTransformer()), ('clf', MultinomialNB())])\n",
    "\n",
    "#Apprentissage du modèle sur les données d'apprentissage\n",
    "text_clf.fit(X_train, y_train)\n",
    "\n",
    "#prediction des données de test\n",
    "predicted = text_clf.predict(X_test)"
   ]
  },
  {
   "cell_type": "code",
   "execution_count": 116,
   "id": "30dd343f",
   "metadata": {},
   "outputs": [
    {
     "name": "stdout",
     "output_type": "stream",
     "text": [
      "Log Loss: 0.1466429295365332\n",
      "auc_roc: 96.8117%\n",
      "Accuracy: 96.8182%\n",
      "[[329  10]\n",
      " [ 11 310]]\n"
     ]
    }
   ],
   "source": [
    "train_predictions = text_clf.predict_proba(X_test)\n",
    "ll = log_loss(y_test, train_predictions)\n",
    "print(\"Log Loss: {}\".format(ll))\n",
    "\n",
    "# calculons l'AUC: Area under the curve(AUC) qui nous donne une idée du meilleur modèle:\n",
    "y_pred = text_clf.predict(X_test)\n",
    "auc_roc=metrics.roc_auc_score(y_test,y_pred)\n",
    "print(\"auc_roc: {:.4%}\".format(auc_roc))\n",
    "\n",
    "acc=accuracy_score(y_test, predicted)\n",
    "print(\"Accuracy: {:.4%}\".format(acc))\n",
    "\n",
    "cm=confusion_matrix(y_test, predicted)\n",
    "#print(cm)"
   ]
  },
  {
   "cell_type": "code",
   "execution_count": 117,
   "id": "4ea9d83c",
   "metadata": {},
   "outputs": [
    {
     "name": "stdout",
     "output_type": "stream",
     "text": [
      "              precision    recall  f1-score   support\n",
      "\n",
      "           0       0.97      0.97      0.97       339\n",
      "           1       0.97      0.97      0.97       321\n",
      "\n",
      "    accuracy                           0.97       660\n",
      "   macro avg       0.97      0.97      0.97       660\n",
      "weighted avg       0.97      0.97      0.97       660\n",
      "\n"
     ]
    },
    {
     "data": {
      "text/plain": [
       "Text(33.0, 0.5, 'Categorie Actuelle')"
      ]
     },
     "execution_count": 117,
     "metadata": {},
     "output_type": "execute_result"
    },
    {
     "data": {
      "image/png": "[encoded data removed]",
      "text/plain": [
       "<Figure size 432x288 with 2 Axes>"
      ]
     },
     "metadata": {
      "needs_background": "light"
     },
     "output_type": "display_data"
    }
   ],
   "source": [
    "print(classification_report(y_test , predicted))\n",
    "# creation du graphique de la matrice de confusion\n",
    "sns.heatmap(cm, annot = True, fmt = 'd')\n",
    "plt.xlabel('Catégorie Prédite')\n",
    "plt.ylabel('Categorie Actuelle')"
   ]
  },
  {
   "cell_type": "markdown",
   "id": "eee7a68d",
   "metadata": {},
   "source": [
    "### Classification avec la regression logistique"
   ]
  },
  {
   "cell_type": "code",
   "execution_count": 118,
   "id": "dd848933",
   "metadata": {},
   "outputs": [],
   "source": [
    "text_clf = Pipeline([('vect', CountVectorizer()), ('tfidf', TfidfTransformer()), ('clf', LogisticRegression())])\n",
    "\n",
    "#train model\n",
    "text_clf.fit(X_train, y_train)\n",
    "\n",
    "#predict class form test data \n",
    "predicted = text_clf.predict(X_test)"
   ]
  },
  {
   "cell_type": "code",
   "execution_count": 120,
   "id": "36c2abf7",
   "metadata": {},
   "outputs": [
    {
     "name": "stdout",
     "output_type": "stream",
     "text": [
      "Log Loss: 0.24162710669591006\n",
      "auc_roc: 97.3038%\n",
      "Accuracy: 97.2727%\n"
     ]
    }
   ],
   "source": [
    "train_predictions = text_clf.predict_proba(X_test)\n",
    "ll = log_loss(y_test, train_predictions)\n",
    "print(\"Log Loss: {}\".format(ll))\n",
    "\n",
    "y_pred = text_clf.predict(X_test)\n",
    "auc_roc=metrics.roc_auc_score(y_test,y_pred)\n",
    "print(\"auc_roc: {:.4%}\".format(auc_roc))\n",
    "\n",
    "acc=accuracy_score(y_test, predicted)\n",
    "print(\"Accuracy: {:.4%}\".format(acc))\n",
    "\n",
    "cm= confusion_matrix(y_test, predicted)\n",
    "#print(cm)"
   ]
  },
  {
   "cell_type": "code",
   "execution_count": 121,
   "id": "516cf2e9",
   "metadata": {},
   "outputs": [
    {
     "name": "stdout",
     "output_type": "stream",
     "text": [
      "              precision    recall  f1-score   support\n",
      "\n",
      "           0       0.98      0.96      0.97       339\n",
      "           1       0.96      0.98      0.97       321\n",
      "\n",
      "    accuracy                           0.97       660\n",
      "   macro avg       0.97      0.97      0.97       660\n",
      "weighted avg       0.97      0.97      0.97       660\n",
      "\n"
     ]
    },
    {
     "data": {
      "text/plain": [
       "Text(33.0, 0.5, 'Categorie Actuelle')"
      ]
     },
     "execution_count": 121,
     "metadata": {},
     "output_type": "execute_result"
    },
    {
     "data": {
      "image/png": "[encoded data removed]",
      "text/plain": [
       "<Figure size 432x288 with 2 Axes>"
      ]
     },
     "metadata": {
      "needs_background": "light"
     },
     "output_type": "display_data"
    }
   ],
   "source": [
    "print(classification_report(y_test , predicted))\n",
    "# creation du graphique de la matrice de confusion\n",
    "sns.heatmap(cm, annot = True, fmt = 'd')\n",
    "plt.xlabel('Catégorie Prédite')\n",
    "plt.ylabel('Categorie Actuelle')"
   ]
  },
  {
   "cell_type": "markdown",
   "id": "fc811947",
   "metadata": {},
   "source": [
    "### SVM Polynomial Kernel"
   ]
  },
  {
   "cell_type": "code",
   "execution_count": 125,
   "id": "12b57c95",
   "metadata": {},
   "outputs": [],
   "source": [
    "#Use pipeline to carry out steps in sequence with a single object, this time we'll use SVM classifier with polynomial kernel\n",
    "text_clf = Pipeline([('vect', CountVectorizer()), ('tfidf', TfidfTransformer()), ('clf', SVC(kernel='poly',probability=True))])\n",
    "\n",
    "#train model\n",
    "text_clf.fit(X_train, y_train)\n",
    "\n",
    "#predict class form test data \n",
    "predicted = text_clf.predict(X_test)"
   ]
  },
  {
   "cell_type": "code",
   "execution_count": 129,
   "id": "3d65eade",
   "metadata": {},
   "outputs": [
    {
     "name": "stdout",
     "output_type": "stream",
     "text": [
      "Log Loss: 0.1432226929015338\n",
      "auc_roc: 89.9085%\n",
      "Accuracy: 90.1515%\n",
      "[[335   4]\n",
      " [ 61 260]]\n"
     ]
    }
   ],
   "source": [
    "train_predictions = text_clf.predict_proba(X_test)\n",
    "ll = log_loss(y_test, train_predictions)\n",
    "print(\"Log Loss: {}\".format(ll))\n",
    "\n",
    "auc_roc=metrics.roc_auc_score(y_test,predicted)\n",
    "print(\"auc_roc: {:.4%}\".format(auc_roc))\n",
    "\n",
    "acc=accuracy_score(y_test, predicted)\n",
    "print(\"Accuracy: {:.4%}\".format(acc))\n",
    "\n",
    "cm=confusion_matrix(y_test, predicted)\n",
    "print(cm)"
   ]
  },
  {
   "cell_type": "code",
   "execution_count": 130,
   "id": "67c917a2",
   "metadata": {},
   "outputs": [
    {
     "name": "stdout",
     "output_type": "stream",
     "text": [
      "              precision    recall  f1-score   support\n",
      "\n",
      "           0       0.85      0.99      0.91       339\n",
      "           1       0.98      0.81      0.89       321\n",
      "\n",
      "    accuracy                           0.90       660\n",
      "   macro avg       0.92      0.90      0.90       660\n",
      "weighted avg       0.91      0.90      0.90       660\n",
      "\n"
     ]
    },
    {
     "data": {
      "text/plain": [
       "Text(33.0, 0.5, 'Categorie Actuelle')"
      ]
     },
     "execution_count": 130,
     "metadata": {},
     "output_type": "execute_result"
    },
    {
     "data": {
      "image/png": "[encoded data removed]",
      "text/plain": [
       "<Figure size 432x288 with 2 Axes>"
      ]
     },
     "metadata": {
      "needs_background": "light"
     },
     "output_type": "display_data"
    }
   ],
   "source": [
    "print(classification_report(y_test , predicted))\n",
    "# creation du graphique de la matrice de confusion\n",
    "sns.heatmap(cm, annot = True, fmt = 'd')\n",
    "plt.xlabel('Catégorie Prédite')\n",
    "plt.ylabel('Categorie Actuelle')"
   ]
  },
  {
   "cell_type": "markdown",
   "id": "8e8d9444",
   "metadata": {},
   "source": [
    "### SVM Linear Kernel"
   ]
  },
  {
   "cell_type": "code",
   "execution_count": 142,
   "id": "645026fc",
   "metadata": {},
   "outputs": [],
   "source": [
    "text_clf = Pipeline([('vect', CountVectorizer()), ('tfidf', TfidfTransformer()), ('clf', SVC(kernel='linear',probability=True))])\n",
    "\n",
    "#train model\n",
    "text_clf.fit(X_train, y_train)\n",
    "\n",
    "#predict class form test data \n",
    "predicted = text_clf.predict(X_test)"
   ]
  },
  {
   "cell_type": "code",
   "execution_count": 143,
   "id": "e3ddc193",
   "metadata": {},
   "outputs": [
    {
     "name": "stdout",
     "output_type": "stream",
     "text": [
      "Log Loss: 0.05316226756292627\n",
      "auc_roc: 98.0578%\n",
      "Accuracy: 98.0303%\n"
     ]
    }
   ],
   "source": [
    "train_predictions = text_clf.predict_proba(X_test)\n",
    "ll = log_loss(y_test, train_predictions)\n",
    "print(\"Log Loss: {}\".format(ll))\n",
    "\n",
    "auc_roc=metrics.roc_auc_score(y_test,predicted)\n",
    "print(\"auc_roc: {:.4%}\".format(auc_roc))\n",
    "\n",
    "acc=accuracy_score(y_test, predicted)\n",
    "print(\"Accuracy: {:.4%}\".format(acc))\n",
    "\n",
    "cm= confusion_matrix(y_test, predicted)\n",
    "#print(cm)"
   ]
  },
  {
   "cell_type": "code",
   "execution_count": 144,
   "id": "d5201dc3",
   "metadata": {},
   "outputs": [
    {
     "name": "stdout",
     "output_type": "stream",
     "text": [
      "              precision    recall  f1-score   support\n",
      "\n",
      "           0       0.99      0.97      0.98       339\n",
      "           1       0.97      0.99      0.98       321\n",
      "\n",
      "    accuracy                           0.98       660\n",
      "   macro avg       0.98      0.98      0.98       660\n",
      "weighted avg       0.98      0.98      0.98       660\n",
      "\n"
     ]
    },
    {
     "data": {
      "text/plain": [
       "Text(33.0, 0.5, 'Categorie Actuelle')"
      ]
     },
     "execution_count": 144,
     "metadata": {},
     "output_type": "execute_result"
    },
    {
     "data": {
      "image/png": "[encoded data removed]",
      "text/plain": [
       "<Figure size 432x288 with 2 Axes>"
      ]
     },
     "metadata": {
      "needs_background": "light"
     },
     "output_type": "display_data"
    }
   ],
   "source": [
    "print(classification_report(y_test , predicted))\n",
    "# creation du graphique de la matrice de confusion\n",
    "sns.heatmap(cm, annot = True, fmt = 'd')\n",
    "plt.xlabel('Catégorie Prédite')\n",
    "plt.ylabel('Categorie Actuelle')"
   ]
  },
  {
   "cell_type": "markdown",
   "id": "e65c11f3",
   "metadata": {},
   "source": [
    "### Choix du modèle de classification"
   ]
  },
  {
   "cell_type": "markdown",
   "id": "acc0caae",
   "metadata": {},
   "source": []
  },
  {
   "cell_type": "code",
   "execution_count": 134,
   "id": "c71985c6",
   "metadata": {},
   "outputs": [
    {
     "name": "stdout",
     "output_type": "stream",
     "text": [
      "Accuracy:  0.9803030303030303\n"
     ]
    },
    {
     "data": {
      "image/png": "[encoded data removed]",
      "text/plain": [
       "<Figure size 576x432 with 2 Axes>"
      ]
     },
     "metadata": {
      "needs_background": "light"
     },
     "output_type": "display_data"
    }
   ],
   "source": [
    "#Evaluation du classifier\n",
    "\n",
    "# Fonction de construction de la matrice de confusion. \n",
    "\n",
    "def plot_confusion_matrix(cm, classes,\n",
    "                          normalize=False,\n",
    "                          title='Confusion matrix',\n",
    "                          cmap=plt.cm.Blues):\n",
    "    if normalize:\n",
    "        cm = cm.astype('float') / cm.sum(axis=1)[:, np.newaxis]\n",
    "\n",
    "    plt.imshow(cm, interpolation='nearest', cmap=cmap)\n",
    "    plt.title(title)\n",
    "    plt.colorbar()\n",
    "    tick_marks = np.arange(len(classes))\n",
    "    plt.xticks(tick_marks, classes, rotation=45)\n",
    "    plt.yticks(tick_marks, classes)\n",
    "\n",
    "    fmt = '.2f' if normalize else 'd'\n",
    "    thresh = cm.max() / 2.\n",
    "    for i, j in itertools.product(range(cm.shape[0]), range(cm.shape[1])):\n",
    "        plt.text(j, i, format(cm[i, j], fmt),\n",
    "                 horizontalalignment=\"center\",\n",
    "                 color=\"white\" if cm[i, j] > thresh else \"black\")\n",
    "\n",
    "    plt.tight_layout()\n",
    "    plt.ylabel('Catégorie Actuelle',fontsize=15)\n",
    "    plt.xlabel('Catégorie Prédite',fontsize=15)\n",
    "    \n",
    "    \n",
    "# Print accuracy:\n",
    "print(\"Accuracy: \", accuracy_score(y_test, predicted))\n",
    "\n",
    "    \n",
    "# Matrice de confusion du SVM Linear Kernel\n",
    "cnf_matrix = confusion_matrix(y_test, predicted)\n",
    "plt.figure(figsize=(8,6))\n",
    "plot_confusion_matrix(cnf_matrix, classes=['Non Spam','Spam'],normalize=True,\n",
    "                      title='Matrice de Confusion des features')\n"
   ]
  },
  {
   "cell_type": "markdown",
   "id": "5f684650",
   "metadata": {},
   "source": [
    "### Probabilité de prédiction d'un mail Spam"
   ]
  },
  {
   "cell_type": "code",
   "execution_count": 135,
   "id": "c032e634",
   "metadata": {},
   "outputs": [],
   "source": [
    "y_prob = text_clf.predict_proba(X_test)\n",
    "#y_prob[:,1]"
   ]
  },
  {
   "cell_type": "markdown",
   "id": "5575b51c",
   "metadata": {},
   "source": [
    "#### Construction de la donnée de sortie"
   ]
  },
  {
   "cell_type": "code",
   "execution_count": 136,
   "id": "e74d5862",
   "metadata": {},
   "outputs": [
    {
     "data": {
      "text/html": [
       "<div>\n",
       "<style scoped>\n",
       "    .dataframe tbody tr th:only-of-type {\n",
       "        vertical-align: middle;\n",
       "    }\n",
       "\n",
       "    .dataframe tbody tr th {\n",
       "        vertical-align: top;\n",
       "    }\n",
       "\n",
       "    .dataframe thead th {\n",
       "        text-align: right;\n",
       "    }\n",
       "</style>\n",
       "<table border=\"1\" class=\"dataframe\">\n",
       "  <thead>\n",
       "    <tr style=\"text-align: right;\">\n",
       "      <th></th>\n",
       "      <th>Ham_precision</th>\n",
       "      <th>Spam_precision</th>\n",
       "    </tr>\n",
       "  </thead>\n",
       "  <tbody>\n",
       "    <tr>\n",
       "      <th>0</th>\n",
       "      <td>96.604067</td>\n",
       "      <td>3.395933</td>\n",
       "    </tr>\n",
       "    <tr>\n",
       "      <th>1</th>\n",
       "      <td>0.813639</td>\n",
       "      <td>99.186361</td>\n",
       "    </tr>\n",
       "    <tr>\n",
       "      <th>2</th>\n",
       "      <td>99.985540</td>\n",
       "      <td>0.014460</td>\n",
       "    </tr>\n",
       "    <tr>\n",
       "      <th>3</th>\n",
       "      <td>99.577675</td>\n",
       "      <td>0.422325</td>\n",
       "    </tr>\n",
       "    <tr>\n",
       "      <th>4</th>\n",
       "      <td>0.443534</td>\n",
       "      <td>99.556466</td>\n",
       "    </tr>\n",
       "  </tbody>\n",
       "</table>\n",
       "</div>"
      ],
      "text/plain": [
       "   Ham_precision  Spam_precision\n",
       "0      96.604067        3.395933\n",
       "1       0.813639       99.186361\n",
       "2      99.985540        0.014460\n",
       "3      99.577675        0.422325\n",
       "4       0.443534       99.556466"
      ]
     },
     "execution_count": 136,
     "metadata": {},
     "output_type": "execute_result"
    }
   ],
   "source": [
    " #y_prob_2[0][1]*100\n",
    "prob = pd.DataFrame()\n",
    "#prob[[\"Ham_pred\", \"Spam_pred\"]] = y_prob_2.T\n",
    "prob[\"Ham_precision\"],prob[\"Spam_precision\"] = y_prob[:,0]*100, y_prob[:,1]*100\n",
    "prob.head()"
   ]
  },
  {
   "cell_type": "code",
   "execution_count": 138,
   "id": "40026b73",
   "metadata": {},
   "outputs": [
    {
     "data": {
      "text/plain": [
       "0.03395932585806581"
      ]
     },
     "execution_count": 138,
     "metadata": {},
     "output_type": "execute_result"
    }
   ],
   "source": [
    "y_prob[0][1]"
   ]
  },
  {
   "cell_type": "code",
   "execution_count": 139,
   "id": "035e1a03",
   "metadata": {},
   "outputs": [
    {
     "data": {
      "text/html": [
       "<div>\n",
       "<style scoped>\n",
       "    .dataframe tbody tr th:only-of-type {\n",
       "        vertical-align: middle;\n",
       "    }\n",
       "\n",
       "    .dataframe tbody tr th {\n",
       "        vertical-align: top;\n",
       "    }\n",
       "\n",
       "    .dataframe thead th {\n",
       "        text-align: right;\n",
       "    }\n",
       "</style>\n",
       "<table border=\"1\" class=\"dataframe\">\n",
       "  <thead>\n",
       "    <tr style=\"text-align: right;\">\n",
       "      <th></th>\n",
       "      <th>Mail</th>\n",
       "      <th>Category</th>\n",
       "    </tr>\n",
       "  </thead>\n",
       "  <tbody>\n",
       "    <tr>\n",
       "      <th>0</th>\n",
       "      <td>latest php upgrade in 7.3today an apt-get upg...</td>\n",
       "      <td>0</td>\n",
       "    </tr>\n",
       "    <tr>\n",
       "      <th>1</th>\n",
       "      <td>[spam]  latifah exposed crotch   weekly newsl...</td>\n",
       "      <td>1</td>\n",
       "    </tr>\n",
       "    <tr>\n",
       "      <th>2</th>\n",
       "      <td>re: how do i fsck and xfs file system in \"sque...</td>\n",
       "      <td>0</td>\n",
       "    </tr>\n",
       "    <tr>\n",
       "      <th>3</th>\n",
       "      <td>re: authentication unsuccessful relaying from ...</td>\n",
       "      <td>0</td>\n",
       "    </tr>\n",
       "    <tr>\n",
       "      <th>4</th>\n",
       "      <td>for hibody. get 70% off today. commissioned s...</td>\n",
       "      <td>1</td>\n",
       "    </tr>\n",
       "  </tbody>\n",
       "</table>\n",
       "</div>"
      ],
      "text/plain": [
       "                                                Mail  Category\n",
       "0   latest php upgrade in 7.3today an apt-get upg...         0\n",
       "1   [spam]  latifah exposed crotch   weekly newsl...         1\n",
       "2  re: how do i fsck and xfs file system in \"sque...         0\n",
       "3  re: authentication unsuccessful relaying from ...         0\n",
       "4   for hibody. get 70% off today. commissioned s...         1"
      ]
     },
     "execution_count": 139,
     "metadata": {},
     "output_type": "execute_result"
    }
   ],
   "source": [
    "result1 = pd.DataFrame({'Mail':X_test})\n",
    "pred = pd.DataFrame(y_pred, columns=['Category'])\n",
    "\n",
    "res = result1.join(pred,how='inner')\n",
    "res.head()"
   ]
  },
  {
   "cell_type": "code",
   "execution_count": 140,
   "id": "d6ec7c20",
   "metadata": {},
   "outputs": [
    {
     "data": {
      "text/html": [
       "<div>\n",
       "<style scoped>\n",
       "    .dataframe tbody tr th:only-of-type {\n",
       "        vertical-align: middle;\n",
       "    }\n",
       "\n",
       "    .dataframe tbody tr th {\n",
       "        vertical-align: top;\n",
       "    }\n",
       "\n",
       "    .dataframe thead th {\n",
       "        text-align: right;\n",
       "    }\n",
       "</style>\n",
       "<table border=\"1\" class=\"dataframe\">\n",
       "  <thead>\n",
       "    <tr style=\"text-align: right;\">\n",
       "      <th></th>\n",
       "      <th>Mail</th>\n",
       "      <th>Category</th>\n",
       "      <th>Ham_precision</th>\n",
       "      <th>Spam_precision</th>\n",
       "    </tr>\n",
       "  </thead>\n",
       "  <tbody>\n",
       "    <tr>\n",
       "      <th>0</th>\n",
       "      <td>latest php upgrade in 7.3today an apt-get upg...</td>\n",
       "      <td>0</td>\n",
       "      <td>96.60</td>\n",
       "      <td>3.40</td>\n",
       "    </tr>\n",
       "    <tr>\n",
       "      <th>1</th>\n",
       "      <td>[spam]  latifah exposed crotch   weekly newsl...</td>\n",
       "      <td>1</td>\n",
       "      <td>0.81</td>\n",
       "      <td>99.19</td>\n",
       "    </tr>\n",
       "    <tr>\n",
       "      <th>2</th>\n",
       "      <td>re: how do i fsck and xfs file system in \"sque...</td>\n",
       "      <td>0</td>\n",
       "      <td>99.99</td>\n",
       "      <td>0.01</td>\n",
       "    </tr>\n",
       "    <tr>\n",
       "      <th>3</th>\n",
       "      <td>re: authentication unsuccessful relaying from ...</td>\n",
       "      <td>0</td>\n",
       "      <td>99.58</td>\n",
       "      <td>0.42</td>\n",
       "    </tr>\n",
       "    <tr>\n",
       "      <th>4</th>\n",
       "      <td>for hibody. get 70% off today. commissioned s...</td>\n",
       "      <td>1</td>\n",
       "      <td>0.44</td>\n",
       "      <td>99.56</td>\n",
       "    </tr>\n",
       "  </tbody>\n",
       "</table>\n",
       "</div>"
      ],
      "text/plain": [
       "                                                Mail  Category  Ham_precision  \\\n",
       "0   latest php upgrade in 7.3today an apt-get upg...         0          96.60   \n",
       "1   [spam]  latifah exposed crotch   weekly newsl...         1           0.81   \n",
       "2  re: how do i fsck and xfs file system in \"sque...         0          99.99   \n",
       "3  re: authentication unsuccessful relaying from ...         0          99.58   \n",
       "4   for hibody. get 70% off today. commissioned s...         1           0.44   \n",
       "\n",
       "   Spam_precision  \n",
       "0            3.40  \n",
       "1           99.19  \n",
       "2            0.01  \n",
       "3            0.42  \n",
       "4           99.56  "
      ]
     },
     "execution_count": 140,
     "metadata": {},
     "output_type": "execute_result"
    }
   ],
   "source": [
    "res_pr=res.join(prob)\n",
    "res_pr.head()\n",
    "\n",
    "res_pr['Ham_precision'] = res_pr['Ham_precision'].astype(float).round(2)\n",
    "res_pr['Spam_precision'] = res_pr['Spam_precision'].astype(float).round(2)\n",
    "\n",
    "res_pr.head()"
   ]
  },
  {
   "cell_type": "code",
   "execution_count": 141,
   "id": "310cd8b4",
   "metadata": {},
   "outputs": [],
   "source": [
    "res_pr.to_csv(\"prediction_finale_SVM.csv\", index=False, sep=\";\",encoding='utf-8-sig')"
   ]
  }
 ],
 "metadata": {
  "kernelspec": {
   "display_name": "Python 3 (ipykernel)",
   "language": "python",
   "name": "python3"
  },
  "language_info": {
   "codemirror_mode": {
    "name": "ipython",
    "version": 3
   },
   "file_extension": ".py",
   "mimetype": "text/x-python",
   "name": "python",
   "nbconvert_exporter": "python",
   "pygments_lexer": "ipython3",
   "version": "3.9.12"
  }
 },
 "nbformat": 4,
 "nbformat_minor": 5
}
