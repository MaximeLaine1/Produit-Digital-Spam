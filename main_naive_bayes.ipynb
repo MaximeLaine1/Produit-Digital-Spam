{
  "nbformat": 4,
  "nbformat_minor": 0,
  "metadata": {
    "colab": {
      "provenance": []
    },
    "kernelspec": {
      "name": "python3",
      "display_name": "Python 3"
    },
    "language_info": {
      "name": "python"
    }
  },
  "cells": [
    {
      "cell_type": "markdown",
      "source": [
        "# Le classifier bayésien naïf pour la détection de spam\n",
        "\n",
        "Nous utilisons ici le modèle naif du classifier de Bayes. La vectorisation des mots s'appuie sur le TF-IDF. \n",
        "\n",
        "## Chargement des librairies nécessaires et de la base de données\n",
        "\n",
        "Les packages utilisés sont répertoriés dans les  requirements. \n",
        "La construction de la base de données est rappelée dans le readme. "
      ],
      "metadata": {
        "id": "kxHRHDIiyomT"
      }
    },
    {
      "cell_type": "code",
      "execution_count": 13,
      "metadata": {
        "id": "0mYmOW0KdKGV"
      },
      "outputs": [],
      "source": [
        "import pandas as pd\n",
        "from sklearn.pipeline import Pipeline\n",
        "from sklearn.metrics import accuracy_score, confusion_matrix, classification_report\n",
        "import matplotlib.pyplot as plt\n",
        "import seaborn as sns"
      ]
    },
    {
      "cell_type": "code",
      "source": [
        "test_data=pd.read_parquet('mails_spam_clean.parquet')\n",
        "test_data.head()"
      ],
      "metadata": {
        "colab": {
          "base_uri": "https://localhost:8080/",
          "height": 206
        },
        "id": "VYTYVdrSdXGk",
        "outputId": "54f57b08-9726-4ffd-cd30-465adf697735"
      },
      "execution_count": 14,
      "outputs": [
        {
          "output_type": "execute_result",
          "data": {
            "text/plain": [
              "                                                body  Spam\n",
              "0  New CMK/Special Hobby accessories, Flyhawk 1/7...  True\n",
              "1  Chère/Cher spam.sep.2022.2023@gmail.com, Votre...  True\n",
              "2  Chère/Cher spam.sep.2022.2023@gmail.com, Votre...  True\n",
              "3  Chère/Cher spam.sep.2022.2023@gmail.com, Votre...  True\n",
              "4  Chère/Cher spam.sep.2022.2023@gmail.com, Votre...  True"
            ],
            "text/html": [
              "\n",
              "  <div id=\"df-92a7d03a-2463-4600-845d-2e3f42770699\">\n",
              "    <div class=\"colab-df-container\">\n",
              "      <div>\n",
              "<style scoped>\n",
              "    .dataframe tbody tr th:only-of-type {\n",
              "        vertical-align: middle;\n",
              "    }\n",
              "\n",
              "    .dataframe tbody tr th {\n",
              "        vertical-align: top;\n",
              "    }\n",
              "\n",
              "    .dataframe thead th {\n",
              "        text-align: right;\n",
              "    }\n",
              "</style>\n",
              "<table border=\"1\" class=\"dataframe\">\n",
              "  <thead>\n",
              "    <tr style=\"text-align: right;\">\n",
              "      <th></th>\n",
              "      <th>body</th>\n",
              "      <th>Spam</th>\n",
              "    </tr>\n",
              "  </thead>\n",
              "  <tbody>\n",
              "    <tr>\n",
              "      <th>0</th>\n",
              "      <td>New CMK/Special Hobby accessories, Flyhawk 1/7...</td>\n",
              "      <td>True</td>\n",
              "    </tr>\n",
              "    <tr>\n",
              "      <th>1</th>\n",
              "      <td>Chère/Cher spam.sep.2022.2023@gmail.com, Votre...</td>\n",
              "      <td>True</td>\n",
              "    </tr>\n",
              "    <tr>\n",
              "      <th>2</th>\n",
              "      <td>Chère/Cher spam.sep.2022.2023@gmail.com, Votre...</td>\n",
              "      <td>True</td>\n",
              "    </tr>\n",
              "    <tr>\n",
              "      <th>3</th>\n",
              "      <td>Chère/Cher spam.sep.2022.2023@gmail.com, Votre...</td>\n",
              "      <td>True</td>\n",
              "    </tr>\n",
              "    <tr>\n",
              "      <th>4</th>\n",
              "      <td>Chère/Cher spam.sep.2022.2023@gmail.com, Votre...</td>\n",
              "      <td>True</td>\n",
              "    </tr>\n",
              "  </tbody>\n",
              "</table>\n",
              "</div>\n",
              "      <button class=\"colab-df-convert\" onclick=\"convertToInteractive('df-92a7d03a-2463-4600-845d-2e3f42770699')\"\n",
              "              title=\"Convert this dataframe to an interactive table.\"\n",
              "              style=\"display:none;\">\n",
              "        \n",
              "  <svg xmlns=\"http://www.w3.org/2000/svg\" height=\"24px\"viewBox=\"0 0 24 24\"\n",
              "       width=\"24px\">\n",
              "    <path d=\"M0 0h24v24H0V0z\" fill=\"none\"/>\n",
              "    <path d=\"M18.56 5.44l.94 2.06.94-2.06 2.06-.94-2.06-.94-.94-2.06-.94 2.06-2.06.94zm-11 1L8.5 8.5l.94-2.06 2.06-.94-2.06-.94L8.5 2.5l-.94 2.06-2.06.94zm10 10l.94 2.06.94-2.06 2.06-.94-2.06-.94-.94-2.06-.94 2.06-2.06.94z\"/><path d=\"M17.41 7.96l-1.37-1.37c-.4-.4-.92-.59-1.43-.59-.52 0-1.04.2-1.43.59L10.3 9.45l-7.72 7.72c-.78.78-.78 2.05 0 2.83L4 21.41c.39.39.9.59 1.41.59.51 0 1.02-.2 1.41-.59l7.78-7.78 2.81-2.81c.8-.78.8-2.07 0-2.86zM5.41 20L4 18.59l7.72-7.72 1.47 1.35L5.41 20z\"/>\n",
              "  </svg>\n",
              "      </button>\n",
              "      \n",
              "  <style>\n",
              "    .colab-df-container {\n",
              "      display:flex;\n",
              "      flex-wrap:wrap;\n",
              "      gap: 12px;\n",
              "    }\n",
              "\n",
              "    .colab-df-convert {\n",
              "      background-color: #E8F0FE;\n",
              "      border: none;\n",
              "      border-radius: 50%;\n",
              "      cursor: pointer;\n",
              "      display: none;\n",
              "      fill: #1967D2;\n",
              "      height: 32px;\n",
              "      padding: 0 0 0 0;\n",
              "      width: 32px;\n",
              "    }\n",
              "\n",
              "    .colab-df-convert:hover {\n",
              "      background-color: #E2EBFA;\n",
              "      box-shadow: 0px 1px 2px rgba(60, 64, 67, 0.3), 0px 1px 3px 1px rgba(60, 64, 67, 0.15);\n",
              "      fill: #174EA6;\n",
              "    }\n",
              "\n",
              "    [theme=dark] .colab-df-convert {\n",
              "      background-color: #3B4455;\n",
              "      fill: #D2E3FC;\n",
              "    }\n",
              "\n",
              "    [theme=dark] .colab-df-convert:hover {\n",
              "      background-color: #434B5C;\n",
              "      box-shadow: 0px 1px 3px 1px rgba(0, 0, 0, 0.15);\n",
              "      filter: drop-shadow(0px 1px 2px rgba(0, 0, 0, 0.3));\n",
              "      fill: #FFFFFF;\n",
              "    }\n",
              "  </style>\n",
              "\n",
              "      <script>\n",
              "        const buttonEl =\n",
              "          document.querySelector('#df-92a7d03a-2463-4600-845d-2e3f42770699 button.colab-df-convert');\n",
              "        buttonEl.style.display =\n",
              "          google.colab.kernel.accessAllowed ? 'block' : 'none';\n",
              "\n",
              "        async function convertToInteractive(key) {\n",
              "          const element = document.querySelector('#df-92a7d03a-2463-4600-845d-2e3f42770699');\n",
              "          const dataTable =\n",
              "            await google.colab.kernel.invokeFunction('convertToInteractive',\n",
              "                                                     [key], {});\n",
              "          if (!dataTable) return;\n",
              "\n",
              "          const docLinkHtml = 'Like what you see? Visit the ' +\n",
              "            '<a target=\"_blank\" href=https://colab.research.google.com/notebooks/data_table.ipynb>data table notebook</a>'\n",
              "            + ' to learn more about interactive tables.';\n",
              "          element.innerHTML = '';\n",
              "          dataTable['output_type'] = 'display_data';\n",
              "          await google.colab.output.renderOutput(dataTable, element);\n",
              "          const docLink = document.createElement('div');\n",
              "          docLink.innerHTML = docLinkHtml;\n",
              "          element.appendChild(docLink);\n",
              "        }\n",
              "      </script>\n",
              "    </div>\n",
              "  </div>\n",
              "  "
            ]
          },
          "metadata": {},
          "execution_count": 14
        }
      ]
    },
    {
      "cell_type": "code",
      "source": [
        "#on passe d'un fichier parquet à un fichier csv\n",
        "df= test_data\n",
        "df.to_csv(\"data.csv\", index=False, sep=\";\")"
      ],
      "metadata": {
        "id": "lbPXuoXDd1Qc"
      },
      "execution_count": 15,
      "outputs": []
    },
    {
      "cell_type": "markdown",
      "source": [
        "## Manipulations de la base de données\n",
        "### Vérifications de l'équilibre de la base\n",
        "On sépare notre base en deux jeux de données selon les deux modalités de la variable catégorielle Spam, \"Spam\" pour les spams et \"Ham\" pour les non-spams. "
      ],
      "metadata": {
        "id": "LU8_wK8L0SIk"
      }
    },
    {
      "cell_type": "code",
      "source": [
        "df_spam = df[df['Spam']==True]\n",
        "df_ham = df[df['Spam']==False]\n",
        "\n",
        "print(\"Taille des non-spams\", df_ham.shape)\n",
        "print(\"Taille des spams\", df_spam.shape)"
      ],
      "metadata": {
        "colab": {
          "base_uri": "https://localhost:8080/"
        },
        "id": "KA92_OEKeGDD",
        "outputId": "52af2d54-f014-47f7-af0b-aedbb21c7f0c"
      },
      "execution_count": 16,
      "outputs": [
        {
          "output_type": "stream",
          "name": "stdout",
          "text": [
            "Taille des non-spams (1000, 2)\n",
            "Taille des spams (1000, 2)\n"
          ]
        }
      ]
    },
    {
      "cell_type": "code",
      "source": [
        "# Notre base est équilibrée : 1000 spams et 1000 non-spams. \n",
        "# On concatene les deux jeux de données\n",
        "df_balanced = pd.concat([df_spam , df_ham])"
      ],
      "metadata": {
        "id": "s7nqGSngeNdR"
      },
      "execution_count": 17,
      "outputs": []
    },
    {
      "cell_type": "markdown",
      "source": [
        "### Partition en base d'apprentissage et de test\n",
        "\n",
        "Nos variables explicatives sont contenues dans le corps du mail (body). On leur attribue X. \n",
        "La variable expliquée est la catégorie, spam ou non spam, (Spam). On lui attribue y. \n",
        "\n",
        "On crée donc quatre objets : X_train et y_train pour l'apprentissage d'une part, X_test et y_test pour le test d'autre part. \n",
        "La moitié des observations est utilisée pour l'apprentissage et l'autre pour le test. "
      ],
      "metadata": {
        "id": "ZAvIPIN52dgb"
      }
    },
    {
      "cell_type": "code",
      "source": [
        "X=df_balanced[\"body\"]\n",
        "y=df_balanced[\"Spam\"]\n",
        "\n",
        "X_train, X_test, y_train, y_test = train_test_split(X, y, test_size=0.5, random_state=13,\n",
        "                                                    shuffle=True , stratify=y)\n"
      ],
      "metadata": {
        "id": "gQRkJZF8eqrd"
      },
      "execution_count": 18,
      "outputs": []
    },
    {
      "cell_type": "markdown",
      "source": [
        "### Création de notre pipeline\n",
        "\n",
        "Notre pipeline a deux étapes : d'abord la vectorisation des mots du mail, éléments contenus dans l'objet X, puis la classification bayésienne naïve. "
      ],
      "metadata": {
        "id": "qWvpR2cV4s3C"
      }
    },
    {
      "cell_type": "code",
      "source": [
        "pipe = Pipeline(steps=[('vectorize', CountVectorizer(ngram_range=(1, 1), token_pattern=r'\\b\\w+\\b')),\n",
        "                       ('classifier', MultinomialNB())])\n",
        "#application du pipeline à notre base d'apprentissage\n",
        "pipe.fit(X_train, y_train)"
      ],
      "metadata": {
        "colab": {
          "base_uri": "https://localhost:8080/"
        },
        "id": "mflBoWflg-7q",
        "outputId": "ce0541a3-81be-44f4-9fad-e7df08686585"
      },
      "execution_count": 19,
      "outputs": [
        {
          "output_type": "execute_result",
          "data": {
            "text/plain": [
              "Pipeline(steps=[('vectorize', CountVectorizer(token_pattern='\\\\b\\\\w+\\\\b')),\n",
              "                ('classifier', MultinomialNB())])"
            ]
          },
          "metadata": {},
          "execution_count": 19
        }
      ]
    },
    {
      "cell_type": "markdown",
      "source": [
        "### Application du modèle\n",
        "Notre modèle est entraîné sur les bases d'apprentissage. \n",
        "\n",
        "On crée la variable y_predict qui contient la prédiction de la variable spam. Elle dépend des mots des mails de la base de test, les variables explicatives dans X_test. "
      ],
      "metadata": {
        "id": "qepUbDuq6H6D"
      }
    },
    {
      "cell_type": "code",
      "source": [
        "y_predict = pipe.predict(X_test)"
      ],
      "metadata": {
        "id": "W4bX40v-7i-F"
      },
      "execution_count": 20,
      "outputs": []
    },
    {
      "cell_type": "markdown",
      "source": [
        "### Evaluer le modèle\n",
        "\n",
        "On évalue le modèle en fonction de la qualité de sa prédiction de spams et de non-spam. \n"
      ],
      "metadata": {
        "id": "THV0PaZN78L7"
      }
    },
    {
      "cell_type": "code",
      "source": [
        "#Afficher les métriques d'évaluation accuracy, precision, recall\n",
        "print(accuracy_score(y_test, y_predict))\n",
        "print(classification_report(y_test, y_predict))\n",
        "#Graphique : matrice de confusion\n",
        "mat = confusion_matrix(y_test, y_predict)\n",
        "sns.heatmap(mat, square=True, annot=True, fmt='d', cbar=True, cmap='coolwarm', linewidths=5)\n",
        "#titres des axes \n",
        "plt.xlabel('Valeur prédite')\n",
        "plt.ylabel('Valeur réelle')\n",
        "#montrer le graphique\n",
        "plt.show()"
      ],
      "metadata": {
        "colab": {
          "base_uri": "https://localhost:8080/",
          "height": 454
        },
        "id": "vixvRiBOhFkL",
        "outputId": "f37244f1-d683-4c00-9038-7fdb88b9044f"
      },
      "execution_count": 21,
      "outputs": [
        {
          "output_type": "stream",
          "name": "stdout",
          "text": [
            "0.888\n",
            "              precision    recall  f1-score   support\n",
            "\n",
            "       False       0.82      0.99      0.90       500\n",
            "        True       0.99      0.78      0.87       500\n",
            "\n",
            "    accuracy                           0.89      1000\n",
            "   macro avg       0.91      0.89      0.89      1000\n",
            "weighted avg       0.91      0.89      0.89      1000\n",
            "\n"
          ]
        },
        {
          "output_type": "display_data",
          "data": {
            "text/plain": [
              "<Figure size 432x288 with 2 Axes>"
            ],
            "image/png": "[encoded data removed]"
          },
          "metadata": {
            "needs_background": "light"
          }
        }
      ]
    },
    {
      "cell_type": "markdown",
      "source": [
        "Malgré l'hypothèse naive de l'indépendance des étiquettes, le classifier donne des résultats intéressants. \n",
        "\n",
        "89% des prédictions sont justes.\n",
        "\n",
        "Parmi les 500 non-spams, 497 ont été prédits non spams et 3 spams. \n",
        "Cependant, parmi les 500 spams, seuls 391 spams ont été prédits spams et les 109 spams restants n'ont pas été filtrés. \n",
        "\n",
        "Ce premier modèle n'est pas assez performant. "
      ],
      "metadata": {
        "id": "XUzszzcD9dmK"
      }
    }
  ]
}