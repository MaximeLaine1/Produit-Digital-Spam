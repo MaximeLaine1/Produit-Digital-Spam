{
 "cells": [
  {
   "cell_type": "code",
   "execution_count": 1,
   "id": "8069388e",
   "metadata": {},
   "outputs": [
    {
     "name": "stdout",
     "output_type": "stream",
     "text": [
      "2.8.3\n"
     ]
    }
   ],
   "source": [
    "import tensorflow as tf\n",
    "print(tf.__version__)"
   ]
  },
  {
   "cell_type": "markdown",
   "id": "c2496f10",
   "metadata": {},
   "source": [
    "#!pip install tensorflow-text==2.8.*\n",
    "\n",
  
   ]
  },
  {
   "cell_type": "code",
   "execution_count": 2,
   "id": "6f7b20bf",
   "metadata": {},
   "outputs": [],
   "source": [
    "import tensorflow_text"
   ]
  },
  {
   "cell_type": "code",
   "execution_count": 1,
   "id": "73b2e91e",
   "metadata": {},
   "outputs": [],
   "source": [
    "import tensorflow_hub as hub\n",
    "import pandas as pd\n",
    "import tensorflow_text as text\n",
    "import matplotlib.pyplot as plt\n",
    "from sklearn.model_selection import train_test_split\n",
    "import tensorflow as tf"
   ]
  },
  {
   "cell_type": "code",
   "execution_count": 2,
   "id": "4e2ba3b2",
   "metadata": {},
   "outputs": [
    {
     "data": {
      "text/html": [
       "<div>\n",
       "<style scoped>\n",
       "    .dataframe tbody tr th:only-of-type {\n",
       "        vertical-align: middle;\n",
       "    }\n",
       "\n",
       "    .dataframe tbody tr th {\n",
       "        vertical-align: top;\n",
       "    }\n",
       "\n",
       "    .dataframe thead th {\n",
       "        text-align: right;\n",
       "    }\n",
       "</style>\n",
       "<table border=\"1\" class=\"dataframe\">\n",
       "  <thead>\n",
       "    <tr style=\"text-align: right;\">\n",
       "      <th></th>\n",
       "      <th>Category</th>\n",
       "      <th>mail</th>\n",
       "    </tr>\n",
       "  </thead>\n",
       "  <tbody>\n",
       "    <tr>\n",
       "      <th>0</th>\n",
       "      <td>ham</td>\n",
       "      <td>Go until jurong point, crazy.. Available only ...</td>\n",
       "    </tr>\n",
       "    <tr>\n",
       "      <th>1</th>\n",
       "      <td>ham</td>\n",
       "      <td>Ok lar... Joking wif u oni...</td>\n",
       "    </tr>\n",
       "    <tr>\n",
       "      <th>2</th>\n",
       "      <td>spam</td>\n",
       "      <td>Free entry in 2 a wkly comp to win FA Cup fina...</td>\n",
       "    </tr>\n",
       "    <tr>\n",
       "      <th>3</th>\n",
       "      <td>ham</td>\n",
       "      <td>U dun say so early hor... U c already then say...</td>\n",
       "    </tr>\n",
       "    <tr>\n",
       "      <th>4</th>\n",
       "      <td>ham</td>\n",
       "      <td>Nah I don't think he goes to usf, he lives aro...</td>\n",
       "    </tr>\n",
       "  </tbody>\n",
       "</table>\n",
       "</div>"
      ],
      "text/plain": [
       "  Category                                               mail\n",
       "0      ham  Go until jurong point, crazy.. Available only ...\n",
       "1      ham                      Ok lar... Joking wif u oni...\n",
       "2     spam  Free entry in 2 a wkly comp to win FA Cup fina...\n",
       "3      ham  U dun say so early hor... U c already then say...\n",
       "4      ham  Nah I don't think he goes to usf, he lives aro..."
      ]
     },
     "execution_count": 2,
     "metadata": {},
     "output_type": "execute_result"
    }
   ],
   "source": [
    "# load data\n",
    "import pandas as pd\n",
    "df = pd.read_csv('SMSSpamCollection', header=None, sep='\\t',names=['Category','mail'])\n",
    "df.head()"
   ]
  },
  {
   "cell_type": "code",
   "execution_count": 3,
   "id": "9cbc674b",
   "metadata": {},
   "outputs": [
    {
     "data": {
      "text/plain": [
       "ham     4825\n",
       "spam     747\n",
       "Name: Category, dtype: int64"
      ]
     },
     "execution_count": 3,
     "metadata": {},
     "output_type": "execute_result"
    }
   ],
   "source": [
    "df['Category'].value_counts()"
   ]
  },
  {
   "cell_type": "code",
   "execution_count": 9,
   "id": "a80fa0f9",
   "metadata": {},
   "outputs": [
    {
     "name": "stdout",
     "output_type": "stream",
     "text": [
      "0.15%\n"
     ]
    }
   ],
   "source": [
    "print(str(round(747/4825,2))+'%')"
   ]
  },
  {
   "cell_type": "code",
   "execution_count": 10,
   "id": "cadb442e",
   "metadata": {},
   "outputs": [
    {
     "name": "stdout",
     "output_type": "stream",
     "text": [
      "Ham Dataset Shape: (4825, 2)\n",
      "Spam Dataset Shape: (747, 2)\n"
     ]
    }
   ],
   "source": [
    "# creating 2 new dataframe as df_ham , df_spam\n",
    "\n",
    "df_spam = df[df['Category']=='spam']\n",
    "\n",
    "df_ham = df[df['Category']=='ham']\n",
    "\n",
    "print(\"Ham Dataset Shape:\", df_ham.shape)\n",
    "\n",
    "print(\"Spam Dataset Shape:\", df_spam.shape)"
   ]
  },
  {
   "cell_type": "code",
   "execution_count": 11,
   "id": "1ce13a62",
   "metadata": {},
   "outputs": [
    {
     "data": {
      "text/plain": [
       "(747, 2)"
      ]
     },
     "execution_count": 11,
     "metadata": {},
     "output_type": "execute_result"
    }
   ],
   "source": [
    "# downsampling ham dataset - take only random 747 example\n",
    "df_ham_downsampled = df_ham.sample(df_spam.shape[0])\n",
    "df_ham_downsampled.shape"
   ]
  },
  {
   "cell_type": "code",
   "execution_count": 12,
   "id": "36774b1e",
   "metadata": {},
   "outputs": [],
   "source": [
    "# concating both dataset - df_spam and df_ham_balanced to create df_balanced dataset\n",
    "df_balanced = pd.concat([df_spam , df_ham_downsampled])"
   ]
  },
  {
   "cell_type": "code",
   "execution_count": 13,
   "id": "93f3d0d6",
   "metadata": {},
   "outputs": [
    {
     "data": {
      "text/plain": [
       "spam    747\n",
       "ham     747\n",
       "Name: Category, dtype: int64"
      ]
     },
     "execution_count": 13,
     "metadata": {},
     "output_type": "execute_result"
    }
   ],
   "source": [
    "df_balanced['Category'].value_counts()"
   ]
  },
  {
   "cell_type": "code",
   "execution_count": 14,
   "id": "47e96f33",
   "metadata": {},
   "outputs": [
    {
     "data": {
      "text/html": [
       "<div>\n",
       "<style scoped>\n",
       "    .dataframe tbody tr th:only-of-type {\n",
       "        vertical-align: middle;\n",
       "    }\n",
       "\n",
       "    .dataframe tbody tr th {\n",
       "        vertical-align: top;\n",
       "    }\n",
       "\n",
       "    .dataframe thead th {\n",
       "        text-align: right;\n",
       "    }\n",
       "</style>\n",
       "<table border=\"1\" class=\"dataframe\">\n",
       "  <thead>\n",
       "    <tr style=\"text-align: right;\">\n",
       "      <th></th>\n",
       "      <th>Category</th>\n",
       "      <th>mail</th>\n",
       "    </tr>\n",
       "  </thead>\n",
       "  <tbody>\n",
       "    <tr>\n",
       "      <th>5376</th>\n",
       "      <td>ham</td>\n",
       "      <td>I don't want you to leave. But i'm barely doin...</td>\n",
       "    </tr>\n",
       "    <tr>\n",
       "      <th>1585</th>\n",
       "      <td>ham</td>\n",
       "      <td>Sorry, I'll call later</td>\n",
       "    </tr>\n",
       "    <tr>\n",
       "      <th>2850</th>\n",
       "      <td>spam</td>\n",
       "      <td>YOUR CHANCE TO BE ON A REALITY FANTASY SHOW ca...</td>\n",
       "    </tr>\n",
       "    <tr>\n",
       "      <th>3467</th>\n",
       "      <td>ham</td>\n",
       "      <td>Actually fuck that, just do whatever, do find ...</td>\n",
       "    </tr>\n",
       "    <tr>\n",
       "      <th>4943</th>\n",
       "      <td>ham</td>\n",
       "      <td>I'm eatin now lor, but goin back to work soon....</td>\n",
       "    </tr>\n",
       "    <tr>\n",
       "      <th>4545</th>\n",
       "      <td>ham</td>\n",
       "      <td>when you and derek done with class?</td>\n",
       "    </tr>\n",
       "    <tr>\n",
       "      <th>3148</th>\n",
       "      <td>ham</td>\n",
       "      <td>Oh thats late! Well have a good night and i wi...</td>\n",
       "    </tr>\n",
       "    <tr>\n",
       "      <th>4110</th>\n",
       "      <td>ham</td>\n",
       "      <td>I want to lick your pussy now...</td>\n",
       "    </tr>\n",
       "    <tr>\n",
       "      <th>1767</th>\n",
       "      <td>spam</td>\n",
       "      <td>SMS AUCTION You have won a Nokia 7250i. This i...</td>\n",
       "    </tr>\n",
       "    <tr>\n",
       "      <th>2893</th>\n",
       "      <td>ham</td>\n",
       "      <td>Babe? You said 2 hours and it's been almost 4 ...</td>\n",
       "    </tr>\n",
       "  </tbody>\n",
       "</table>\n",
       "</div>"
      ],
      "text/plain": [
       "     Category                                               mail\n",
       "5376      ham  I don't want you to leave. But i'm barely doin...\n",
       "1585      ham                             Sorry, I'll call later\n",
       "2850     spam  YOUR CHANCE TO BE ON A REALITY FANTASY SHOW ca...\n",
       "3467      ham  Actually fuck that, just do whatever, do find ...\n",
       "4943      ham  I'm eatin now lor, but goin back to work soon....\n",
       "4545      ham                when you and derek done with class?\n",
       "3148      ham  Oh thats late! Well have a good night and i wi...\n",
       "4110      ham                   I want to lick your pussy now...\n",
       "1767     spam  SMS AUCTION You have won a Nokia 7250i. This i...\n",
       "2893      ham  Babe? You said 2 hours and it's been almost 4 ..."
      ]
     },
     "execution_count": 14,
     "metadata": {},
     "output_type": "execute_result"
    }
   ],
   "source": [
    "df_balanced.sample(10)"
   ]
  },
  {
   "cell_type": "code",
   "execution_count": 15,
   "id": "6bf60242",
   "metadata": {},
   "outputs": [],
   "source": [
    "# creating numerical repersentation of category - one hot encoding\n",
    "df_balanced['spam'] = df_balanced['Category'].apply(lambda x:1 if x=='spam' else 0)"
   ]
  },
  {
   "cell_type": "code",
   "execution_count": 16,
   "id": "dd8ad4b1",
   "metadata": {},
   "outputs": [
    {
     "data": {
      "text/html": [
       "<div>\n",
       "<style scoped>\n",
       "    .dataframe tbody tr th:only-of-type {\n",
       "        vertical-align: middle;\n",
       "    }\n",
       "\n",
       "    .dataframe tbody tr th {\n",
       "        vertical-align: top;\n",
       "    }\n",
       "\n",
       "    .dataframe thead th {\n",
       "        text-align: right;\n",
       "    }\n",
       "</style>\n",
       "<table border=\"1\" class=\"dataframe\">\n",
       "  <thead>\n",
       "    <tr style=\"text-align: right;\">\n",
       "      <th></th>\n",
       "      <th>Category</th>\n",
       "      <th>mail</th>\n",
       "      <th>spam</th>\n",
       "    </tr>\n",
       "  </thead>\n",
       "  <tbody>\n",
       "    <tr>\n",
       "      <th>1476</th>\n",
       "      <td>ham</td>\n",
       "      <td>Nice. Wait...should you be texting right now? ...</td>\n",
       "      <td>0</td>\n",
       "    </tr>\n",
       "    <tr>\n",
       "      <th>3978</th>\n",
       "      <td>spam</td>\n",
       "      <td>Great NEW Offer - DOUBLE Mins &amp; DOUBLE Txt on ...</td>\n",
       "      <td>1</td>\n",
       "    </tr>\n",
       "    <tr>\n",
       "      <th>2651</th>\n",
       "      <td>ham</td>\n",
       "      <td>Do you like shaking your booty on the dance fl...</td>\n",
       "      <td>0</td>\n",
       "    </tr>\n",
       "    <tr>\n",
       "      <th>5071</th>\n",
       "      <td>spam</td>\n",
       "      <td>5p 4 alfie Moon's Children in need song on ur ...</td>\n",
       "      <td>1</td>\n",
       "    </tr>\n",
       "  </tbody>\n",
       "</table>\n",
       "</div>"
      ],
      "text/plain": [
       "     Category                                               mail  spam\n",
       "1476      ham  Nice. Wait...should you be texting right now? ...     0\n",
       "3978     spam  Great NEW Offer - DOUBLE Mins & DOUBLE Txt on ...     1\n",
       "2651      ham  Do you like shaking your booty on the dance fl...     0\n",
       "5071     spam  5p 4 alfie Moon's Children in need song on ur ...     1"
      ]
     },
     "execution_count": 16,
     "metadata": {},
     "output_type": "execute_result"
    }
   ],
   "source": [
    "# displaying data - spam -1 , ham-0\n",
    "df_balanced.sample(4)"
   ]
  },
  {
   "cell_type": "code",
   "execution_count": 18,
   "id": "7fbada19",
   "metadata": {},
   "outputs": [],
   "source": [
    "# loading train test split\n",
    "from sklearn.model_selection import train_test_split\n",
    "X_train, X_test , y_train, y_test = train_test_split(df_balanced['mail'], df_balanced['spam'],\n",
    "                                                    stratify = df_balanced['spam'])"
   ]
  },
  {
   "cell_type": "code",
   "execution_count": 19,
   "id": "a491a448",
   "metadata": {},
   "outputs": [],
   "source": [
    "# downloading preprocessing files and model\n",
    "bert_preprocessor = hub.KerasLayer('https://tfhub.dev/tensorflow/bert_en_uncased_preprocess/3')\n",
    "bert_encoder = hub.KerasLayer('https://tfhub.dev/tensorflow/bert_en_uncased_L-12_H-768_A-12/4')"
   ]
  },
  {
   "cell_type": "code",
   "execution_count": 20,
   "id": "106b328b",
   "metadata": {},
   "outputs": [],
   "source": [
    "text_input = tf.keras.layers.Input(shape = (), dtype = tf.string, name = 'Inputs')\n",
    "preprocessed_text = bert_preprocessor(text_input)\n",
    "embeed = bert_encoder(preprocessed_text)\n",
    "dropout = tf.keras.layers.Dropout(0.1, name = 'Dropout')(embeed['pooled_output'])\n",
    "outputs = tf.keras.layers.Dense(1, activation = 'sigmoid', name = 'Dense')(dropout)"
   ]
  },
  {
   "cell_type": "code",
   "execution_count": 21,
   "id": "b288f2b7",
   "metadata": {},
   "outputs": [],
   "source": [
    "# creating final model\n",
    "model = tf.keras.Model(inputs = [text_input], outputs = [outputs])"
   ]
  },
  {
   "cell_type": "code",
   "execution_count": 22,
   "id": "a5df12d7",
   "metadata": {},
   "outputs": [
    {
     "name": "stdout",
     "output_type": "stream",
     "text": [
      "Model: \"model\"\n",
      "__________________________________________________________________________________________________\n",
      " Layer (type)                   Output Shape         Param #     Connected to                     \n",
      "==================================================================================================\n",
      " Inputs (InputLayer)            [(None,)]            0           []                               \n",
      "                                                                                                  \n",
      " keras_layer (KerasLayer)       {'input_word_ids':   0           ['Inputs[0][0]']                 \n",
      "                                (None, 128),                                                      \n",
      "                                 'input_mask': (Non                                               \n",
      "                                e, 128),                                                          \n",
      "                                 'input_type_ids':                                                \n",
      "                                (None, 128)}                                                      \n",
      "                                                                                                  \n",
      " keras_layer_1 (KerasLayer)     {'sequence_output':  109482241   ['keras_layer[0][0]',            \n",
      "                                 (None, 128, 768),                'keras_layer[0][1]',            \n",
      "                                 'pooled_output': (               'keras_layer[0][2]']            \n",
      "                                None, 768),                                                       \n",
      "                                 'encoder_outputs':                                               \n",
      "                                 [(None, 128, 768),                                               \n",
      "                                 (None, 128, 768),                                                \n",
      "                                 (None, 128, 768),                                                \n",
      "                                 (None, 128, 768),                                                \n",
      "                                 (None, 128, 768),                                                \n",
      "                                 (None, 128, 768),                                                \n",
      "                                 (None, 128, 768),                                                \n",
      "                                 (None, 128, 768),                                                \n",
      "                                 (None, 128, 768),                                                \n",
      "                                 (None, 128, 768),                                                \n",
      "                                 (None, 128, 768),                                                \n",
      "                                 (None, 128, 768)],                                               \n",
      "                                 'default': (None,                                                \n",
      "                                768)}                                                             \n",
      "                                                                                                  \n",
      " Dropout (Dropout)              (None, 768)          0           ['keras_layer_1[0][13]']         \n",
      "                                                                                                  \n",
      " Dense (Dense)                  (None, 1)            769         ['Dropout[0][0]']                \n",
      "                                                                                                  \n",
      "==================================================================================================\n",
      "Total params: 109,483,010\n",
      "Trainable params: 769\n",
      "Non-trainable params: 109,482,241\n",
      "__________________________________________________________________________________________________\n"
     ]
    }
   ],
   "source": [
    "model.summary()"
   ]
  },
  {
   "cell_type": "code",
   "execution_count": 24,
   "id": "aec81ee0",
   "metadata": {},
   "outputs": [],
   "source": [
    "Metrics = [tf.keras.metrics.BinaryAccuracy(name = 'accuracy'),\n",
    "           tf.keras.metrics.Precision(name = 'precision'),\n",
    "           tf.keras.metrics.Recall(name = 'recall')]"
   ]
  },
  {
   "cell_type": "code",
   "execution_count": 25,
   "id": "db724be8",
   "metadata": {},
   "outputs": [],
   "source": [
    "# compiling our model\n",
    "model.compile(optimizer ='adam',\n",
    "               loss = 'binary_crossentropy',\n",
    "               metrics = Metrics)"
   ]
  },
  {
   "cell_type": "code",
   "execution_count": 26,
   "id": "d01d3073",
   "metadata": {},
   "outputs": [
    {
     "name": "stdout",
     "output_type": "stream",
     "text": [
      "Epoch 1/10\n",
      "35/35 [==============================] - 330s 9s/step - loss: 0.6452 - accuracy: 0.6420 - precision: 0.6417 - recall: 0.6429\n",
      "Epoch 2/10\n",
      "35/35 [==============================] - 323s 9s/step - loss: 0.5175 - accuracy: 0.8205 - precision: 0.8100 - recall: 0.8375\n",
      "Epoch 3/10\n",
      "35/35 [==============================] - 326s 9s/step - loss: 0.4474 - accuracy: 0.8429 - precision: 0.8478 - recall: 0.8357\n",
      "Epoch 4/10\n",
      "35/35 [==============================] - 333s 9s/step - loss: 0.3984 - accuracy: 0.8652 - precision: 0.8569 - recall: 0.8768\n",
      "Epoch 5/10\n",
      "35/35 [==============================] - 321s 9s/step - loss: 0.3673 - accuracy: 0.8848 - precision: 0.8841 - recall: 0.8857\n",
      "Epoch 6/10\n",
      "35/35 [==============================] - 327s 9s/step - loss: 0.3434 - accuracy: 0.8786 - precision: 0.8605 - recall: 0.9036\n",
      "Epoch 7/10\n",
      "35/35 [==============================] - 325s 9s/step - loss: 0.3258 - accuracy: 0.8857 - precision: 0.8843 - recall: 0.8875\n",
      "Epoch 8/10\n",
      "35/35 [==============================] - 308s 9s/step - loss: 0.3066 - accuracy: 0.9000 - precision: 0.8902 - recall: 0.9125\n",
      "Epoch 9/10\n",
      "35/35 [==============================] - 320s 9s/step - loss: 0.2965 - accuracy: 0.8982 - precision: 0.8926 - recall: 0.9054\n",
      "Epoch 10/10\n",
      "35/35 [==============================] - 329s 9s/step - loss: 0.2810 - accuracy: 0.9054 - precision: 0.8969 - recall: 0.9161\n"
     ]
    }
   ],
   "source": [
    "history = model.fit(X_train, y_train, epochs = 10)"
   ]
  },
  {
   "cell_type": "markdown",
   "id": "c0ad083c",
   "metadata": {},
   "source": [
    "Model evaluation"
   ]
  },
  {
   "cell_type": "code",
   "execution_count": 27,
   "id": "456bd9eb",
   "metadata": {},
   "outputs": [
    {
     "name": "stdout",
     "output_type": "stream",
     "text": [
      "12/12 [==============================] - 115s 9s/step - loss: 0.2636 - accuracy: 0.9171 - precision: 0.9286 - recall: 0.9037\n"
     ]
    },
    {
     "data": {
      "text/plain": [
       "[0.26364654302597046,\n",
       " 0.9171122908592224,\n",
       " 0.9285714030265808,\n",
       " 0.903743326663971]"
      ]
     },
     "execution_count": 27,
     "metadata": {},
     "output_type": "execute_result"
    }
   ],
   "source": [
    "# Evaluating performance\n",
    "model.evaluate(X_test,y_test)"
   ]
  },
  {
   "cell_type": "code",
   "execution_count": 28,
   "id": "06987561",
   "metadata": {},
   "outputs": [],
   "source": [
    "# getting y_pred by predicting over X_text and flattening it\n",
    "#Confusion matrix\n",
    "y_pred = model.predict(X_test)\n",
    "y_pred = y_pred.flatten() # require to be in one-dimensional array , for easy manipulation"
   ]
  },
  {
   "cell_type": "code",
   "execution_count": null,
   "id": "814a9969",
   "metadata": {},
   "outputs": [],
   "source": []
  },
  {
   "cell_type": "code",
   "execution_count": 34,
   "id": "3e1d30c3",
   "metadata": {},
   "outputs": [
    {
     "data": {
      "text/plain": [
       "array([1, 0, 0, 1, 0, 0, 0, 1, 1, 0, 1, 1, 0, 0, 0, 0, 0, 0, 0, 1, 1, 1,\n",
       "       0, 1, 0, 1, 1, 1, 1, 1, 1, 1, 0, 1, 0, 0, 0, 1, 0, 1, 0, 1, 1, 0,\n",
       "       1, 0, 1, 1, 0, 0, 1, 1, 0, 0, 0, 0, 0, 1, 0, 1, 0, 0, 0, 0, 0, 0,\n",
       "       1, 0, 0, 1, 0, 1, 0, 1, 1, 1, 0, 0, 0, 1, 0, 1, 0, 1, 0, 1, 0, 1,\n",
       "       1, 0, 0, 0, 0, 1, 0, 0, 0, 0, 0, 0, 0, 1, 1, 1, 0, 0, 0, 0, 0, 1,\n",
       "       0, 0, 0, 1, 1, 1, 1, 1, 0, 0, 0, 0, 1, 0, 0, 0, 0, 1, 1, 0, 0, 0,\n",
       "       0, 0, 1, 0, 1, 0, 0, 0, 0, 1, 1, 1, 0, 0, 1, 0, 1, 1, 0, 1, 1, 1,\n",
       "       1, 1, 1, 1, 1, 0, 1, 1, 1, 0, 1, 0, 1, 1, 1, 1, 1, 1, 1, 0, 0, 1,\n",
       "       0, 0, 0, 0, 1, 0, 0, 0, 0, 0, 0, 1, 1, 1, 1, 1, 1, 0, 0, 1, 1, 1,\n",
       "       0, 1, 1, 0, 0, 1, 1, 0, 0, 1, 0, 1, 0, 0, 0, 1, 1, 0, 0, 0, 0, 1,\n",
       "       0, 1, 0, 0, 1, 1, 0, 1, 0, 0, 1, 1, 0, 1, 1, 0, 1, 0, 0, 1, 1, 0,\n",
       "       1, 0, 1, 1, 1, 1, 0, 0, 0, 0, 0, 0, 1, 1, 0, 1, 0, 1, 1, 1, 0, 0,\n",
       "       0, 0, 1, 1, 1, 1, 0, 0, 1, 0, 1, 1, 0, 1, 1, 1, 0, 0, 1, 1, 0, 0,\n",
       "       1, 0, 1, 0, 1, 0, 0, 0, 0, 0, 1, 1, 0, 0, 1, 0, 1, 0, 0, 1, 0, 0,\n",
       "       1, 1, 1, 1, 1, 0, 1, 0, 1, 1, 0, 1, 0, 1, 1, 1, 0, 1, 0, 0, 0, 1,\n",
       "       0, 1, 1, 1, 0, 1, 1, 0, 0, 1, 0, 0, 0, 1, 0, 1, 1, 0, 0, 1, 0, 1,\n",
       "       0, 0, 1, 0, 0, 1, 1, 1, 1, 1, 1, 1, 0, 0, 1, 1, 1, 0, 1, 1, 1, 0])"
      ]
     },
     "execution_count": 34,
     "metadata": {},
     "output_type": "execute_result"
    }
   ],
   "source": [
    "import numpy as np\n",
    "\n",
    "y_pred = np.where(y_pred > 0.5, 1, 0)\n",
    "y_pred"
   ]
  },
  {
   "cell_type": "code",
   "execution_count": 37,
   "id": "1e0074ac",
   "metadata": {},
   "outputs": [
    {
     "data": {
      "text/plain": [
       "array([[174,  13],\n",
       "       [ 18, 169]], dtype=int64)"
      ]
     },
     "execution_count": 37,
     "metadata": {},
     "output_type": "execute_result"
    }
   ],
   "source": [
    "# importing confusion maxtrix\n",
    "import numpy as np\n",
    "from sklearn.metrics import confusion_matrix , classification_report\n",
    "\n",
    "# creating confusion matrix \n",
    "\n",
    "cm = confusion_matrix(y_test,y_pred)\n",
    "cm"
   ]
  },
  {
   "cell_type": "code",
   "execution_count": null,
   "id": "5a0e5855",
   "metadata": {},
   "outputs": [],
   "source": [
    "cm"
   ]
  },
  {
   "cell_type": "code",
   "execution_count": 38,
   "id": "044e28ef",
   "metadata": {},
   "outputs": [
    {
     "data": {
      "text/plain": [
       "Text(33.0, 0.5, 'Actual')"
      ]
     },
     "execution_count": 38,
     "metadata": {},
     "output_type": "execute_result"
    },
    {
     "data": {
      "image/png": "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\n",
      "text/plain": [
       "<Figure size 432x288 with 2 Axes>"
      ]
     },
     "metadata": {
      "needs_background": "light"
     },
     "output_type": "display_data"
    }
   ],
   "source": [
    "import seaborn as sns\n",
    "# creating a graph out of confusion matrix\n",
    "sns.heatmap(cm, annot = True, fmt = 'd')\n",
    "plt.xlabel('Predicted')\n",
    "plt.ylabel('Actual')"
   ]
  },
  {
   "cell_type": "code",
   "execution_count": 39,
   "id": "86d86f71",
   "metadata": {},
   "outputs": [
    {
     "name": "stdout",
     "output_type": "stream",
     "text": [
      "              precision    recall  f1-score   support\n",
      "\n",
      "           0       0.91      0.93      0.92       187\n",
      "           1       0.93      0.90      0.92       187\n",
      "\n",
      "    accuracy                           0.92       374\n",
      "   macro avg       0.92      0.92      0.92       374\n",
      "weighted avg       0.92      0.92      0.92       374\n",
      "\n"
     ]
    }
   ],
   "source": [
    "print(classification_report(y_test , y_pred))"
   ]
  },
  {
   "cell_type": "code",
   "execution_count": 48,
   "id": "96e2f820",
   "metadata": {},
   "outputs": [],
   "source": [
    "predict_text = [\n",
    "                # Spam\n",
    "                'We’d all like to get a $10,000 deposit on our bank accounts out of the blue, but winning a prize—especially if you’ve never entered a contest', \n",
    "                'Netflix is sending you a refund of $12.99. Please reply with your bank account and routing number to verify and get your refund', \n",
    "                'Your account is temporarily frozen. Please log in to to secure your account ', \n",
    "                #ham\n",
    "                'The article was published on 18th August itself',\n",
    "                'Although we are unable to give you an exact time-frame at the moment, I would request you to stay tuned for any updates.',\n",
    "                'The image you sent is a UI bug, I can check that your article is marked as regular and is not in the monetization program.'\n",
    "]\n",
    "\n",
    "sample_dataset = [\n",
    " 'You can win a lot of money, register in the link below',\n",
    " 'You have an iPhone 10, spin the image below to claim your prize and it will be delivered in your door step',\n",
    " 'You have an offer, the company will give you 50% off on every item purchased.',\n",
    " \"Hey Bravin, don't be late for the meeting tomorrow will start lot exactly 10:30 am\",\n",
    " \"See you monday, we have alot to talk about the future of this company .\"\n",
    "]"
   ]
  },
  {
   "cell_type": "code",
   "execution_count": 49,
   "id": "8653664f",
   "metadata": {},
   "outputs": [],
   "source": [
    "test_results = model.predict(predict_text)\n",
    "test_result = model.predict(sample_dataset)"
   ]
  },
  {
   "cell_type": "code",
   "execution_count": 50,
   "id": "b6f4fde0",
   "metadata": {},
   "outputs": [
    {
     "data": {
      "text/plain": [
       "array([[0.5705156 ],\n",
       "       [0.8634435 ],\n",
       "       [0.3756087 ],\n",
       "       [0.64164543],\n",
       "       [0.13924685]], dtype=float32)"
      ]
     },
     "execution_count": 50,
     "metadata": {},
     "output_type": "execute_result"
    }
   ],
   "source": [
    "test_result"
   ]
  },
  {
   "cell_type": "code",
   "execution_count": 44,
   "id": "027b6a0c",
   "metadata": {},
   "outputs": [
    {
     "data": {
      "text/plain": [
       "array([[0.4678884 ],\n",
       "       [0.9021646 ],\n",
       "       [0.7688416 ],\n",
       "       [0.05985668],\n",
       "       [0.42883283],\n",
       "       [0.47981182]], dtype=float32)"
      ]
     },
     "execution_count": 44,
     "metadata": {},
     "output_type": "execute_result"
    }
   ],
   "source": [
    "test_results"
   ]
  },
  {
   "cell_type": "code",
   "execution_count": 45,
   "id": "57e72a79",
   "metadata": {},
   "outputs": [],
   "source": [
    "output = np.where(test_results>0.5,'spam', 'ham')"
   ]
  },
  {
   "cell_type": "code",
   "execution_count": 46,
   "id": "bae4bb3e",
   "metadata": {},
   "outputs": [
    {
     "data": {
      "text/plain": [
       "array([['ham'],\n",
       "       ['spam'],\n",
       "       ['spam'],\n",
       "       ['ham'],\n",
       "       ['ham'],\n",
       "       ['ham']], dtype='<U4')"
      ]
     },
     "execution_count": 46,
     "metadata": {},
     "output_type": "execute_result"
    }
   ],
   "source": [
    "output"
   ]
  },
  {
   "cell_type": "code",
   "execution_count": null,
   "id": "27149c91",
   "metadata": {},
   "outputs": [],
   "source": []
  }
 ],
 "metadata": {
  "kernelspec": {
   "display_name": "Python 3 (ipykernel)",
   "language": "python",
   "name": "python3"
  },
  "language_info": {
   "codemirror_mode": {
    "name": "ipython",
    "version": 3
   },
   "file_extension": ".py",
   "mimetype": "text/x-python",
   "name": "python",
   "nbconvert_exporter": "python",
   "pygments_lexer": "ipython3",
   "version": "3.9.12"
  }
 },
 "nbformat": 4,
 "nbformat_minor": 5
}
